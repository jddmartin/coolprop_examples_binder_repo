{
 "cells": [
  {
   "cell_type": "markdown",
   "metadata": {},
   "source": [
    "# Example usage of CoolProp\n",
    "\n",
    "Coolprop gives access to the thermodynamic properties of many fluids; e.g., heat capacities, entropies, critical points.  It can also be used to construct phase diagrams.\n",
    "\n",
    "The purpose of this notebook is to illustrate some simple examples that I have found useful when teaching Phys 358, Thermal Physics, at the University of Waterloo.  It can be viewed as a sort of \"quick-start\" for Phys 358 students.  In Phys 358, we have used the textbook: Schroeder, *Introduction to Thermal Physics*, so some of the examples are related to examples within this text.\n",
    "\n",
    "Obviously, the place to consult for more information is the official documentation.  For the python interface, a good place to start is:\n",
    "\n",
    "http://www.coolprop.org/coolprop/HighLevelAPI.html\n",
    "\n",
    "If you have simple examples to add, please let me know.  Thanks! --- Jim."
   ]
  },
  {
   "cell_type": "code",
   "execution_count": 1,
   "metadata": {},
   "outputs": [],
   "source": [
    "import numpy as np  # for convenient arrays\n",
    "import matplotlib.pyplot as plt  # for plotting\n",
    "from CoolProp.CoolProp import PropsSI"
   ]
  },
  {
   "cell_type": "markdown",
   "metadata": {},
   "source": [
    "The basic usage of PropsSI involves specifying as arguments:\n",
    "1) what you want computed, and\n",
    "2) two variables (usually) that indicate state of the system.\n",
    "\n",
    "A basic example:  What is the constant pressure molar heat capacity of water at 1 bar and 300 K?"
   ]
  },
  {
   "cell_type": "code",
   "execution_count": 2,
   "metadata": {},
   "outputs": [
    {
     "data": {
      "text/plain": [
       "75.315341400625"
      ]
     },
     "execution_count": 2,
     "metadata": {},
     "output_type": "execute_result"
    }
   ],
   "source": [
    "PropsSI('Cpmolar','P',1.0e5,'T', 300.0,'Water')  # first argument says we want heat capacity, the next four specify under what conditions."
   ]
  },
  {
   "cell_type": "markdown",
   "metadata": {},
   "source": [
    "That agrees with 75.29 J/(K mol) found in Schroeder's Reference Data."
   ]
  },
  {
   "cell_type": "markdown",
   "metadata": {},
   "source": [
    "Another example:  compute and plot the enthalpy of 1 g of water from freezing to above boiling.  This is similar to a plot in the notes, except CoolProp cannot handle solids, so below 273 K is not covered.  Note the automatic vectorization."
   ]
  },
  {
   "cell_type": "code",
   "execution_count": 3,
   "metadata": {},
   "outputs": [
    {
     "data": {
      "text/plain": [
       "Text(0,0.5,'enthalpy (J)')"
      ]
     },
     "execution_count": 3,
     "metadata": {},
     "output_type": "execute_result"
    },
    {
     "data": {
      "image/png": "[encoded data removed]",
      "text/plain": [
       "<Figure size 432x288 with 1 Axes>"
      ]
     },
     "metadata": {
      "needs_background": "light"
     },
     "output_type": "display_data"
    }
   ],
   "source": [
    "ts = np.linspace(273.15, 450.0, 1000)\n",
    "hs = PropsSI('H','T', ts,'P',1e5,'Water')\n",
    "plt.plot(ts, hs / 1000)  # 'H' is per kg, and we want per g\n",
    "ax = plt.gca()\n",
    "ax.set_xlabel(\"temperature (K)\")\n",
    "ax.set_ylabel(\"enthalpy (J)\")"
   ]
  }
 ],
 "metadata": {
  "kernelspec": {
   "display_name": "Python 3",
   "language": "python",
   "name": "python3"
  },
  "language_info": {
   "codemirror_mode": {
    "name": "ipython",
    "version": 3
   },
   "file_extension": ".py",
   "mimetype": "text/x-python",
   "name": "python",
   "nbconvert_exporter": "python",
   "pygments_lexer": "ipython3",
   "version": "3.6.9"
  }
 },
 "nbformat": 4,
 "nbformat_minor": 4
}
